{
 "cells": [
  {
   "cell_type": "code",
   "execution_count": 18,
   "metadata": {},
   "outputs": [],
   "source": [
    "import pandas as pd\n",
    "import os\n",
    "import json"
   ]
  },
  {
   "cell_type": "markdown",
   "metadata": {},
   "source": [
    "# Look for potential patterns in the proofs that weres successfully repaired the models\n"
   ]
  },
  {
   "cell_type": "code",
   "execution_count": null,
   "metadata": {},
   "outputs": [],
   "source": [
    "def load_all_json_files(root_dir):\n",
    "    combined_list = []\n",
    "\n",
    "    for root, _, files in os.walk(root_dir):\n",
    "        for file in files:\n",
    "            if file == \"abc.json\":\n",
    "                file_path = os.path.join(root, file)\n",
    "                with open(file_path, 'r') as f:\n",
    "                    data = json.load(f)\n",
    "                combined_list.extend(data)\n",
    "\n",
    "    return combined_list"
   ]
  },
  {
   "cell_type": "markdown",
   "metadata": {},
   "source": [
    "# Inspect the predictions made by ByT5 models in Experiment 2"
   ]
  },
  {
   "cell_type": "code",
   "execution_count": 4,
   "metadata": {},
   "outputs": [],
   "source": [
    "from collections import Counter\n",
    "\n",
    "# look at the frequency counts of the substrings (without spaces)\n",
    "df = pd.read_csv(\"experiments/byt5_small/finetuned/by_file/test_by_file_by_t5_small_tuned_prediction.csv\")\n",
    "predictions = df.predicted_proof.values\n",
    "word_counts = Counter(word for string in predictions for word in string.split())"
   ]
  },
  {
   "cell_type": "code",
   "execution_count": 16,
   "metadata": {},
   "outputs": [
    {
     "data": {
      "text/plain": [
       "Counter({'Finset.mem_univ,': 105316,\n",
       "         'Finset.coe_image,': 7868,\n",
       "         'Function.comp_apply,': 5241,\n",
       "         'h': 3945,\n",
       "         '=>': 3936,\n",
       "         '·': 2077,\n",
       "         '⟨fun': 2039,\n",
       "         '?_⟩': 2015,\n",
       "         'refine': 1938,\n",
       "         '?_,': 1918,\n",
       "         'fun': 1918,\n",
       "         's': 1622,\n",
       "         ':=': 1000,\n",
       "         'by': 1000,\n",
       "         'simp': 972,\n",
       "         'only': 972,\n",
       "         'with': 956,\n",
       "         'a': 898,\n",
       "         '[Finset.mem_univ,': 800,\n",
       "         'classical': 782,\n",
       "         \"induction'\": 782,\n",
       "         'using': 782,\n",
       "         'Finset.induction_on': 782,\n",
       "         'ha': 782,\n",
       "         'ih': 782,\n",
       "         'Finset.mem_uni': 320,\n",
       "         'mem_setOf_eq,': 246,\n",
       "         'F': 237,\n",
       "         'rcases': 174,\n",
       "         '(rfl': 174,\n",
       "         '|': 174,\n",
       "         \"h's)\": 174,\n",
       "         'eq_or_ne': 116,\n",
       "         '0': 116,\n",
       "         'exact': 104,\n",
       "         'Fin': 98,\n",
       "         '[Finset.coe_image,': 61,\n",
       "         'eq_empty_or_nonempty': 58,\n",
       "         'Finse': 57,\n",
       "         '[mem_setOf_eq,': 55,\n",
       "         '[Function.comp_apply,': 51,\n",
       "         'Finset.': 35,\n",
       "         'Fu': 33,\n",
       "         'Function.co': 15,\n",
       "         'Finset.me': 11,\n",
       "         'Finset.mem_': 6,\n",
       "         'Finset.mem_un': 5,\n",
       "         'not_false_iff,': 5,\n",
       "         'mem_iUnion,': 4,\n",
       "         '=': 3,\n",
       "         'Fi': 3,\n",
       "         'Finset.mem': 2,\n",
       "         \"[h's,\": 2,\n",
       "         'eq_self_iff_true,': 2,\n",
       "         '[mem_iUnion,': 2,\n",
       "         'Function': 2,\n",
       "         'Finset.mem_univ_iff,': 2,\n",
       "         '⟨fu': 1,\n",
       "         '[fun': 1,\n",
       "         '?_': 1,\n",
       "         'not_false_iff]': 1,\n",
       "         '⟨': 1,\n",
       "         'Function.comp_app': 1,\n",
       "         'Finset.coe_image': 1})"
      ]
     },
     "execution_count": 16,
     "metadata": {},
     "output_type": "execute_result"
    }
   ],
   "source": [
    "word_counts"
   ]
  }
 ],
 "metadata": {
  "kernelspec": {
   "display_name": "venv",
   "language": "python",
   "name": "python3"
  },
  "language_info": {
   "codemirror_mode": {
    "name": "ipython",
    "version": 3
   },
   "file_extension": ".py",
   "mimetype": "text/x-python",
   "name": "python",
   "nbconvert_exporter": "python",
   "pygments_lexer": "ipython3",
   "version": "3.10.11"
  }
 },
 "nbformat": 4,
 "nbformat_minor": 2
}
